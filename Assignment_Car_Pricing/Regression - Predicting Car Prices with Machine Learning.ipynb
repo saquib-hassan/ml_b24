{
 "cells": [
  {
   "cell_type": "code",
   "execution_count": 2440,
   "id": "9cce39c9",
   "metadata": {},
   "outputs": [],
   "source": [
    "import pandas as pd\n",
    "url = 'https://raw.githubusercontent.com/rashakil-ds/Public-Datasets/main/automobile.csv'\n",
    "df = pd.read_csv(url)"
   ]
  },
  {
   "cell_type": "code",
   "execution_count": 2441,
   "id": "9eae1925",
   "metadata": {},
   "outputs": [
    {
     "data": {
      "text/html": [
       "<div>\n",
       "<style scoped>\n",
       "    .dataframe tbody tr th:only-of-type {\n",
       "        vertical-align: middle;\n",
       "    }\n",
       "\n",
       "    .dataframe tbody tr th {\n",
       "        vertical-align: top;\n",
       "    }\n",
       "\n",
       "    .dataframe thead th {\n",
       "        text-align: right;\n",
       "    }\n",
       "</style>\n",
       "<table border=\"1\" class=\"dataframe\">\n",
       "  <thead>\n",
       "    <tr style=\"text-align: right;\">\n",
       "      <th></th>\n",
       "      <th>symboling</th>\n",
       "      <th>normalized-losses</th>\n",
       "      <th>make</th>\n",
       "      <th>fuel-type</th>\n",
       "      <th>aspiration</th>\n",
       "      <th>num-of-doors</th>\n",
       "      <th>body-style</th>\n",
       "      <th>drive-wheels</th>\n",
       "      <th>engine-location</th>\n",
       "      <th>wheel-base</th>\n",
       "      <th>...</th>\n",
       "      <th>engine-size</th>\n",
       "      <th>fuel-system</th>\n",
       "      <th>bore</th>\n",
       "      <th>stroke</th>\n",
       "      <th>compression-ratio</th>\n",
       "      <th>horsepower</th>\n",
       "      <th>peak-rpm</th>\n",
       "      <th>city-mpg</th>\n",
       "      <th>highway-mpg</th>\n",
       "      <th>price</th>\n",
       "    </tr>\n",
       "  </thead>\n",
       "  <tbody>\n",
       "    <tr>\n",
       "      <th>0</th>\n",
       "      <td>3</td>\n",
       "      <td>NaN</td>\n",
       "      <td>alfa-romero</td>\n",
       "      <td>gas</td>\n",
       "      <td>std</td>\n",
       "      <td>two</td>\n",
       "      <td>convertible</td>\n",
       "      <td>rwd</td>\n",
       "      <td>front</td>\n",
       "      <td>88.6</td>\n",
       "      <td>...</td>\n",
       "      <td>130</td>\n",
       "      <td>mpfi</td>\n",
       "      <td>3.47</td>\n",
       "      <td>2.68</td>\n",
       "      <td>9.0</td>\n",
       "      <td>111</td>\n",
       "      <td>5000</td>\n",
       "      <td>21</td>\n",
       "      <td>27</td>\n",
       "      <td>13495</td>\n",
       "    </tr>\n",
       "    <tr>\n",
       "      <th>1</th>\n",
       "      <td>3</td>\n",
       "      <td>NaN</td>\n",
       "      <td>alfa-romero</td>\n",
       "      <td>gas</td>\n",
       "      <td>std</td>\n",
       "      <td>two</td>\n",
       "      <td>convertible</td>\n",
       "      <td>rwd</td>\n",
       "      <td>front</td>\n",
       "      <td>88.6</td>\n",
       "      <td>...</td>\n",
       "      <td>130</td>\n",
       "      <td>mpfi</td>\n",
       "      <td>3.47</td>\n",
       "      <td>2.68</td>\n",
       "      <td>9.0</td>\n",
       "      <td>111</td>\n",
       "      <td>5000</td>\n",
       "      <td>21</td>\n",
       "      <td>27</td>\n",
       "      <td>16500</td>\n",
       "    </tr>\n",
       "    <tr>\n",
       "      <th>2</th>\n",
       "      <td>1</td>\n",
       "      <td>NaN</td>\n",
       "      <td>alfa-romero</td>\n",
       "      <td>gas</td>\n",
       "      <td>std</td>\n",
       "      <td>two</td>\n",
       "      <td>hatchback</td>\n",
       "      <td>rwd</td>\n",
       "      <td>front</td>\n",
       "      <td>94.5</td>\n",
       "      <td>...</td>\n",
       "      <td>152</td>\n",
       "      <td>mpfi</td>\n",
       "      <td>2.68</td>\n",
       "      <td>3.47</td>\n",
       "      <td>9.0</td>\n",
       "      <td>154</td>\n",
       "      <td>5000</td>\n",
       "      <td>19</td>\n",
       "      <td>26</td>\n",
       "      <td>16500</td>\n",
       "    </tr>\n",
       "    <tr>\n",
       "      <th>3</th>\n",
       "      <td>2</td>\n",
       "      <td>164.0</td>\n",
       "      <td>audi</td>\n",
       "      <td>gas</td>\n",
       "      <td>std</td>\n",
       "      <td>four</td>\n",
       "      <td>sedan</td>\n",
       "      <td>fwd</td>\n",
       "      <td>front</td>\n",
       "      <td>99.8</td>\n",
       "      <td>...</td>\n",
       "      <td>109</td>\n",
       "      <td>mpfi</td>\n",
       "      <td>3.19</td>\n",
       "      <td>3.4</td>\n",
       "      <td>10.0</td>\n",
       "      <td>102</td>\n",
       "      <td>5500</td>\n",
       "      <td>24</td>\n",
       "      <td>30</td>\n",
       "      <td>13950</td>\n",
       "    </tr>\n",
       "    <tr>\n",
       "      <th>4</th>\n",
       "      <td>2</td>\n",
       "      <td>164.0</td>\n",
       "      <td>audi</td>\n",
       "      <td>gas</td>\n",
       "      <td>std</td>\n",
       "      <td>four</td>\n",
       "      <td>sedan</td>\n",
       "      <td>4wd</td>\n",
       "      <td>front</td>\n",
       "      <td>99.4</td>\n",
       "      <td>...</td>\n",
       "      <td>136</td>\n",
       "      <td>mpfi</td>\n",
       "      <td>3.19</td>\n",
       "      <td>3.4</td>\n",
       "      <td>8.0</td>\n",
       "      <td>115</td>\n",
       "      <td>5500</td>\n",
       "      <td>18</td>\n",
       "      <td>22</td>\n",
       "      <td>17450</td>\n",
       "    </tr>\n",
       "  </tbody>\n",
       "</table>\n",
       "<p>5 rows × 26 columns</p>\n",
       "</div>"
      ],
      "text/plain": [
       "   symboling  normalized-losses         make fuel-type aspiration  \\\n",
       "0          3                NaN  alfa-romero       gas        std   \n",
       "1          3                NaN  alfa-romero       gas        std   \n",
       "2          1                NaN  alfa-romero       gas        std   \n",
       "3          2              164.0         audi       gas        std   \n",
       "4          2              164.0         audi       gas        std   \n",
       "\n",
       "  num-of-doors   body-style drive-wheels engine-location  wheel-base  ...  \\\n",
       "0          two  convertible          rwd           front        88.6  ...   \n",
       "1          two  convertible          rwd           front        88.6  ...   \n",
       "2          two    hatchback          rwd           front        94.5  ...   \n",
       "3         four        sedan          fwd           front        99.8  ...   \n",
       "4         four        sedan          4wd           front        99.4  ...   \n",
       "\n",
       "   engine-size  fuel-system  bore  stroke compression-ratio horsepower  \\\n",
       "0          130         mpfi  3.47    2.68               9.0        111   \n",
       "1          130         mpfi  3.47    2.68               9.0        111   \n",
       "2          152         mpfi  2.68    3.47               9.0        154   \n",
       "3          109         mpfi  3.19     3.4              10.0        102   \n",
       "4          136         mpfi  3.19     3.4               8.0        115   \n",
       "\n",
       "   peak-rpm city-mpg highway-mpg  price  \n",
       "0      5000       21          27  13495  \n",
       "1      5000       21          27  16500  \n",
       "2      5000       19          26  16500  \n",
       "3      5500       24          30  13950  \n",
       "4      5500       18          22  17450  \n",
       "\n",
       "[5 rows x 26 columns]"
      ]
     },
     "execution_count": 2441,
     "metadata": {},
     "output_type": "execute_result"
    }
   ],
   "source": [
    "df.head()"
   ]
  },
  {
   "cell_type": "code",
   "execution_count": 2442,
   "id": "4d50c06a",
   "metadata": {},
   "outputs": [
    {
     "data": {
      "text/plain": [
       "Index(['symboling', 'normalized-losses', 'make', 'fuel-type', 'aspiration',\n",
       "       'num-of-doors', 'body-style', 'drive-wheels', 'engine-location',\n",
       "       'wheel-base', 'length', 'width', 'height', 'curb-weight', 'engine-type',\n",
       "       'num-of-cylinders', 'engine-size', 'fuel-system', 'bore', 'stroke',\n",
       "       'compression-ratio', 'horsepower', 'peak-rpm', 'city-mpg',\n",
       "       'highway-mpg', 'price'],\n",
       "      dtype='object')"
      ]
     },
     "execution_count": 2442,
     "metadata": {},
     "output_type": "execute_result"
    }
   ],
   "source": [
    "df.columns"
   ]
  },
  {
   "cell_type": "code",
   "execution_count": null,
   "id": "47d120e5-00b2-4495-abb6-b4feb63563d5",
   "metadata": {},
   "outputs": [],
   "source": []
  },
  {
   "cell_type": "markdown",
   "id": "2dbc607c",
   "metadata": {},
   "source": [
    "# Goal & Steps:"
   ]
  },
  {
   "cell_type": "markdown",
   "id": "2f1719bc",
   "metadata": {},
   "source": [
    "1. Predicting Car Prices:\n",
    "   - Task: Build a regression model to predict the price (y=price) of cars based on other features in the dataset. This could involve preprocessing the data, selecting relevant features, and implementing `linear regression` and `KNN` algorithm.\n",
    "\n",
    "2. Feature Engineering:\n",
    "   - Task: Challenge students to come up with creative ways to engineer new features from the existing ones. For example, they could create a new feature representing the ratio of horsepower to curb weight.\n",
    "\n",
    "3. Exploratory Data Analysis (EDA):\n",
    "   - Task: Have students perform in-depth exploratory data analysis to understand the relationships between different features. Visualization tools can be used to communicate their findings effectively.\n",
    "\n",
    "4. Handling Missing Data:\n",
    "   - Task: Teach students how to handle missing data in a dataset. They can explore different strategies such as imputation or removal of missing values.\n",
    "\n",
    "5. Training:\n",
    "   - Task: Use relavant ML Models\n",
    "\n",
    "6. Model evaluation:\n",
    "- Evaluate models and Summarizing their findings. This should include a clear explanation of the model's performance and any insights gained from the analysis."
   ]
  },
  {
   "cell_type": "code",
   "execution_count": null,
   "id": "75b98fad-632a-470d-a9d8-8dc91f44df6e",
   "metadata": {},
   "outputs": [],
   "source": []
  },
  {
   "cell_type": "code",
   "execution_count": 2445,
   "id": "4516eb96-3bc7-4593-8d42-080e0a0a3ba5",
   "metadata": {},
   "outputs": [],
   "source": [
    "import numpy as np"
   ]
  },
  {
   "cell_type": "code",
   "execution_count": 2446,
   "id": "1fe696e7-0d79-4750-9bd4-38f3e193837e",
   "metadata": {},
   "outputs": [
    {
     "name": "stdout",
     "output_type": "stream",
     "text": [
      "<class 'pandas.core.frame.DataFrame'>\n",
      "RangeIndex: 202 entries, 0 to 201\n",
      "Data columns (total 26 columns):\n",
      " #   Column             Non-Null Count  Dtype  \n",
      "---  ------             --------------  -----  \n",
      " 0   symboling          202 non-null    int64  \n",
      " 1   normalized-losses  165 non-null    float64\n",
      " 2   make               202 non-null    object \n",
      " 3   fuel-type          202 non-null    object \n",
      " 4   aspiration         202 non-null    object \n",
      " 5   num-of-doors       200 non-null    object \n",
      " 6   body-style         202 non-null    object \n",
      " 7   drive-wheels       202 non-null    object \n",
      " 8   engine-location    202 non-null    object \n",
      " 9   wheel-base         202 non-null    float64\n",
      " 10  length             202 non-null    float64\n",
      " 11  width              202 non-null    float64\n",
      " 12  height             202 non-null    float64\n",
      " 13  curb-weight        202 non-null    int64  \n",
      " 14  engine-type        202 non-null    object \n",
      " 15  num-of-cylinders   202 non-null    object \n",
      " 16  engine-size        202 non-null    int64  \n",
      " 17  fuel-system        202 non-null    object \n",
      " 18  bore               202 non-null    object \n",
      " 19  stroke             202 non-null    object \n",
      " 20  compression-ratio  202 non-null    float64\n",
      " 21  horsepower         202 non-null    object \n",
      " 22  peak-rpm           202 non-null    object \n",
      " 23  city-mpg           202 non-null    int64  \n",
      " 24  highway-mpg        202 non-null    int64  \n",
      " 25  price              202 non-null    int64  \n",
      "dtypes: float64(6), int64(6), object(14)\n",
      "memory usage: 41.2+ KB\n"
     ]
    }
   ],
   "source": [
    "df.info()"
   ]
  },
  {
   "cell_type": "code",
   "execution_count": 2447,
   "id": "307bfa17-56ee-4ac3-93ca-d0f08b58ab13",
   "metadata": {},
   "outputs": [],
   "source": [
    "df.to_csv(\"car_price.csv\")"
   ]
  },
  {
   "cell_type": "code",
   "execution_count": 2448,
   "id": "dc926401-67b8-4c6a-968d-7816906e7594",
   "metadata": {},
   "outputs": [
    {
     "data": {
      "text/html": [
       "<div>\n",
       "<style scoped>\n",
       "    .dataframe tbody tr th:only-of-type {\n",
       "        vertical-align: middle;\n",
       "    }\n",
       "\n",
       "    .dataframe tbody tr th {\n",
       "        vertical-align: top;\n",
       "    }\n",
       "\n",
       "    .dataframe thead th {\n",
       "        text-align: right;\n",
       "    }\n",
       "</style>\n",
       "<table border=\"1\" class=\"dataframe\">\n",
       "  <thead>\n",
       "    <tr style=\"text-align: right;\">\n",
       "      <th></th>\n",
       "      <th>symboling</th>\n",
       "      <th>normalized-losses</th>\n",
       "      <th>wheel-base</th>\n",
       "      <th>length</th>\n",
       "      <th>width</th>\n",
       "      <th>height</th>\n",
       "      <th>curb-weight</th>\n",
       "      <th>engine-size</th>\n",
       "      <th>compression-ratio</th>\n",
       "      <th>city-mpg</th>\n",
       "      <th>highway-mpg</th>\n",
       "      <th>price</th>\n",
       "    </tr>\n",
       "  </thead>\n",
       "  <tbody>\n",
       "    <tr>\n",
       "      <th>count</th>\n",
       "      <td>202.000000</td>\n",
       "      <td>165.000000</td>\n",
       "      <td>202.000000</td>\n",
       "      <td>202.000000</td>\n",
       "      <td>202.000000</td>\n",
       "      <td>202.000000</td>\n",
       "      <td>202.000000</td>\n",
       "      <td>202.000000</td>\n",
       "      <td>202.000000</td>\n",
       "      <td>202.000000</td>\n",
       "      <td>202.000000</td>\n",
       "      <td>202.000000</td>\n",
       "    </tr>\n",
       "    <tr>\n",
       "      <th>mean</th>\n",
       "      <td>0.831683</td>\n",
       "      <td>121.836364</td>\n",
       "      <td>98.848020</td>\n",
       "      <td>174.273267</td>\n",
       "      <td>65.903960</td>\n",
       "      <td>53.775248</td>\n",
       "      <td>2558.173267</td>\n",
       "      <td>126.945545</td>\n",
       "      <td>10.160990</td>\n",
       "      <td>25.148515</td>\n",
       "      <td>30.658416</td>\n",
       "      <td>13253.752475</td>\n",
       "    </tr>\n",
       "    <tr>\n",
       "      <th>std</th>\n",
       "      <td>1.258360</td>\n",
       "      <td>35.396412</td>\n",
       "      <td>6.094523</td>\n",
       "      <td>12.334330</td>\n",
       "      <td>2.106915</td>\n",
       "      <td>2.444769</td>\n",
       "      <td>517.236654</td>\n",
       "      <td>41.455269</td>\n",
       "      <td>3.995264</td>\n",
       "      <td>6.421956</td>\n",
       "      <td>6.809940</td>\n",
       "      <td>7954.919591</td>\n",
       "    </tr>\n",
       "    <tr>\n",
       "      <th>min</th>\n",
       "      <td>-2.000000</td>\n",
       "      <td>65.000000</td>\n",
       "      <td>86.600000</td>\n",
       "      <td>141.100000</td>\n",
       "      <td>60.300000</td>\n",
       "      <td>47.800000</td>\n",
       "      <td>1488.000000</td>\n",
       "      <td>61.000000</td>\n",
       "      <td>7.000000</td>\n",
       "      <td>13.000000</td>\n",
       "      <td>16.000000</td>\n",
       "      <td>5118.000000</td>\n",
       "    </tr>\n",
       "    <tr>\n",
       "      <th>25%</th>\n",
       "      <td>0.000000</td>\n",
       "      <td>94.000000</td>\n",
       "      <td>94.500000</td>\n",
       "      <td>166.800000</td>\n",
       "      <td>64.125000</td>\n",
       "      <td>52.000000</td>\n",
       "      <td>2174.250000</td>\n",
       "      <td>98.000000</td>\n",
       "      <td>8.600000</td>\n",
       "      <td>19.000000</td>\n",
       "      <td>25.000000</td>\n",
       "      <td>7778.250000</td>\n",
       "    </tr>\n",
       "    <tr>\n",
       "      <th>50%</th>\n",
       "      <td>1.000000</td>\n",
       "      <td>115.000000</td>\n",
       "      <td>97.000000</td>\n",
       "      <td>173.200000</td>\n",
       "      <td>65.500000</td>\n",
       "      <td>54.100000</td>\n",
       "      <td>2417.000000</td>\n",
       "      <td>120.000000</td>\n",
       "      <td>9.000000</td>\n",
       "      <td>24.000000</td>\n",
       "      <td>30.000000</td>\n",
       "      <td>10320.000000</td>\n",
       "    </tr>\n",
       "    <tr>\n",
       "      <th>75%</th>\n",
       "      <td>2.000000</td>\n",
       "      <td>150.000000</td>\n",
       "      <td>102.400000</td>\n",
       "      <td>183.500000</td>\n",
       "      <td>66.825000</td>\n",
       "      <td>55.500000</td>\n",
       "      <td>2932.750000</td>\n",
       "      <td>141.000000</td>\n",
       "      <td>9.400000</td>\n",
       "      <td>30.000000</td>\n",
       "      <td>34.000000</td>\n",
       "      <td>16502.250000</td>\n",
       "    </tr>\n",
       "    <tr>\n",
       "      <th>max</th>\n",
       "      <td>3.000000</td>\n",
       "      <td>256.000000</td>\n",
       "      <td>120.900000</td>\n",
       "      <td>208.100000</td>\n",
       "      <td>72.000000</td>\n",
       "      <td>59.800000</td>\n",
       "      <td>4066.000000</td>\n",
       "      <td>326.000000</td>\n",
       "      <td>23.000000</td>\n",
       "      <td>49.000000</td>\n",
       "      <td>54.000000</td>\n",
       "      <td>45400.000000</td>\n",
       "    </tr>\n",
       "  </tbody>\n",
       "</table>\n",
       "</div>"
      ],
      "text/plain": [
       "        symboling  normalized-losses  wheel-base      length       width  \\\n",
       "count  202.000000         165.000000  202.000000  202.000000  202.000000   \n",
       "mean     0.831683         121.836364   98.848020  174.273267   65.903960   \n",
       "std      1.258360          35.396412    6.094523   12.334330    2.106915   \n",
       "min     -2.000000          65.000000   86.600000  141.100000   60.300000   \n",
       "25%      0.000000          94.000000   94.500000  166.800000   64.125000   \n",
       "50%      1.000000         115.000000   97.000000  173.200000   65.500000   \n",
       "75%      2.000000         150.000000  102.400000  183.500000   66.825000   \n",
       "max      3.000000         256.000000  120.900000  208.100000   72.000000   \n",
       "\n",
       "           height  curb-weight  engine-size  compression-ratio    city-mpg  \\\n",
       "count  202.000000   202.000000   202.000000         202.000000  202.000000   \n",
       "mean    53.775248  2558.173267   126.945545          10.160990   25.148515   \n",
       "std      2.444769   517.236654    41.455269           3.995264    6.421956   \n",
       "min     47.800000  1488.000000    61.000000           7.000000   13.000000   \n",
       "25%     52.000000  2174.250000    98.000000           8.600000   19.000000   \n",
       "50%     54.100000  2417.000000   120.000000           9.000000   24.000000   \n",
       "75%     55.500000  2932.750000   141.000000           9.400000   30.000000   \n",
       "max     59.800000  4066.000000   326.000000          23.000000   49.000000   \n",
       "\n",
       "       highway-mpg         price  \n",
       "count   202.000000    202.000000  \n",
       "mean     30.658416  13253.752475  \n",
       "std       6.809940   7954.919591  \n",
       "min      16.000000   5118.000000  \n",
       "25%      25.000000   7778.250000  \n",
       "50%      30.000000  10320.000000  \n",
       "75%      34.000000  16502.250000  \n",
       "max      54.000000  45400.000000  "
      ]
     },
     "execution_count": 2448,
     "metadata": {},
     "output_type": "execute_result"
    }
   ],
   "source": [
    "df.describe()"
   ]
  },
  {
   "cell_type": "code",
   "execution_count": 2449,
   "id": "b85a16db-b80a-4525-a816-ad298b1dc161",
   "metadata": {},
   "outputs": [],
   "source": [
    "# df.price.value_counts()"
   ]
  },
  {
   "cell_type": "code",
   "execution_count": 2450,
   "id": "656b6b92-1975-4c48-9c93-58c29638035b",
   "metadata": {},
   "outputs": [
    {
     "data": {
      "text/plain": [
       "symboling             0\n",
       "normalized-losses    37\n",
       "make                  0\n",
       "fuel-type             0\n",
       "aspiration            0\n",
       "num-of-doors          2\n",
       "body-style            0\n",
       "drive-wheels          0\n",
       "engine-location       0\n",
       "wheel-base            0\n",
       "length                0\n",
       "width                 0\n",
       "height                0\n",
       "curb-weight           0\n",
       "engine-type           0\n",
       "num-of-cylinders      0\n",
       "engine-size           0\n",
       "fuel-system           0\n",
       "bore                  0\n",
       "stroke                0\n",
       "compression-ratio     0\n",
       "horsepower            0\n",
       "peak-rpm              0\n",
       "city-mpg              0\n",
       "highway-mpg           0\n",
       "price                 0\n",
       "dtype: int64"
      ]
     },
     "execution_count": 2450,
     "metadata": {},
     "output_type": "execute_result"
    }
   ],
   "source": [
    "df.isnull().sum()"
   ]
  },
  {
   "cell_type": "code",
   "execution_count": 2451,
   "id": "7af7c5ef-363d-4efc-9ec9-28a95b8c21b4",
   "metadata": {},
   "outputs": [],
   "source": [
    "df.dropna(subset=['price'], inplace=True)"
   ]
  },
  {
   "cell_type": "code",
   "execution_count": 2452,
   "id": "edb098d7-e228-422e-bd6b-5fceb39197b5",
   "metadata": {},
   "outputs": [],
   "source": [
    "numerical_cols = ['normalized-losses', 'wheel-base', 'length', 'width', 'height', \n",
    "                  'curb-weight', 'engine-size', 'bore', 'stroke', 'compression-ratio', \n",
    "                  'horsepower', 'peak-rpm', 'city-mpg', 'highway-mpg']"
   ]
  },
  {
   "cell_type": "code",
   "execution_count": 2453,
   "id": "c48bbe7b-b678-49d5-8872-02224f0c856b",
   "metadata": {},
   "outputs": [
    {
     "data": {
      "text/plain": [
       "['normalized-losses',\n",
       " 'wheel-base',\n",
       " 'length',\n",
       " 'width',\n",
       " 'height',\n",
       " 'curb-weight',\n",
       " 'engine-size',\n",
       " 'bore',\n",
       " 'stroke',\n",
       " 'compression-ratio',\n",
       " 'horsepower',\n",
       " 'peak-rpm',\n",
       " 'city-mpg',\n",
       " 'highway-mpg']"
      ]
     },
     "execution_count": 2453,
     "metadata": {},
     "output_type": "execute_result"
    }
   ],
   "source": [
    "numerical_cols"
   ]
  },
  {
   "cell_type": "code",
   "execution_count": 2454,
   "id": "03435213-a1cb-4e87-b681-8474fde44281",
   "metadata": {},
   "outputs": [],
   "source": [
    "for col in numerical_cols:\n",
    "    df[col] = pd.to_numeric(df[col], errors='coerce')"
   ]
  },
  {
   "cell_type": "code",
   "execution_count": 2455,
   "id": "4a25ae2c-2972-42fa-a83c-ae5f85f24874",
   "metadata": {},
   "outputs": [
    {
     "data": {
      "text/plain": [
       "0      27\n",
       "1      27\n",
       "2      26\n",
       "3      30\n",
       "4      22\n",
       "       ..\n",
       "197    25\n",
       "198    23\n",
       "199    27\n",
       "200    25\n",
       "201    25\n",
       "Name: highway-mpg, Length: 202, dtype: int64"
      ]
     },
     "execution_count": 2455,
     "metadata": {},
     "output_type": "execute_result"
    }
   ],
   "source": [
    "df[col]"
   ]
  },
  {
   "cell_type": "code",
   "execution_count": 2456,
   "id": "a3937bf7-8d80-46ea-85e0-409cbdb19adb",
   "metadata": {},
   "outputs": [],
   "source": [
    "# filling numerical NaN with median\n",
    "for col in numerical_cols:\n",
    "    median_val = df[col].median()\n",
    "    df[col] = df[col].fillna(median_val)"
   ]
  },
  {
   "cell_type": "code",
   "execution_count": 2457,
   "id": "c0caa841-d13c-45fa-ac87-8e244fd4b98c",
   "metadata": {},
   "outputs": [],
   "source": [
    "categorical_cols = ['make', 'fuel-type', 'aspiration', 'num-of-doors', 'body-style',\n",
    "                    'drive-wheels', 'engine-location', 'engine-type', 'num-of-cylinders', 'fuel-system']"
   ]
  },
  {
   "cell_type": "code",
   "execution_count": 2458,
   "id": "07ad06c6-72f5-4314-8df4-74fd77dd769e",
   "metadata": {},
   "outputs": [
    {
     "data": {
      "text/plain": [
       "['make',\n",
       " 'fuel-type',\n",
       " 'aspiration',\n",
       " 'num-of-doors',\n",
       " 'body-style',\n",
       " 'drive-wheels',\n",
       " 'engine-location',\n",
       " 'engine-type',\n",
       " 'num-of-cylinders',\n",
       " 'fuel-system']"
      ]
     },
     "execution_count": 2458,
     "metadata": {},
     "output_type": "execute_result"
    }
   ],
   "source": [
    "categorical_cols"
   ]
  },
  {
   "cell_type": "code",
   "execution_count": 2459,
   "id": "919f020c-65ce-4ac1-b02d-81dcef92385d",
   "metadata": {},
   "outputs": [],
   "source": [
    "for col in categorical_cols:\n",
    "    df[col] = df[col].fillna(df[col].mode()[0])  # filling with most frequent category"
   ]
  },
  {
   "cell_type": "code",
   "execution_count": 2460,
   "id": "8084eb60-736b-4f69-9e4d-78dac307406f",
   "metadata": {},
   "outputs": [],
   "source": [
    "#Feature Engineering\n",
    "df['horsepower_per_weight'] = df['horsepower'] / df['curb-weight']"
   ]
  },
  {
   "cell_type": "code",
   "execution_count": 2461,
   "id": "d135f5cf-c6c9-4dc8-ac66-d7045489a75b",
   "metadata": {},
   "outputs": [
    {
     "data": {
      "text/plain": [
       "0      0.043564\n",
       "1      0.043564\n",
       "2      0.054552\n",
       "3      0.043646\n",
       "4      0.040722\n",
       "         ...   \n",
       "197    0.052476\n",
       "198    0.044489\n",
       "199    0.032950\n",
       "200    0.037231\n",
       "201    0.037231\n",
       "Name: horsepower_per_weight, Length: 202, dtype: float64"
      ]
     },
     "execution_count": 2461,
     "metadata": {},
     "output_type": "execute_result"
    }
   ],
   "source": [
    "df['horsepower_per_weight']"
   ]
  },
  {
   "cell_type": "code",
   "execution_count": 2462,
   "id": "98fe5012-5e11-4a6c-8727-1468c77b6c3c",
   "metadata": {},
   "outputs": [],
   "source": [
    "df['avg_mpg'] = (df['city-mpg'] + df['highway-mpg']) / 2"
   ]
  },
  {
   "cell_type": "code",
   "execution_count": 2463,
   "id": "f6d83abd-6eb0-4750-bec9-4920a1b9b0f4",
   "metadata": {},
   "outputs": [
    {
     "data": {
      "text/plain": [
       "0    24.0\n",
       "1    24.0\n",
       "2    22.5\n",
       "3    27.0\n",
       "4    20.0\n",
       "Name: avg_mpg, dtype: float64"
      ]
     },
     "execution_count": 2463,
     "metadata": {},
     "output_type": "execute_result"
    }
   ],
   "source": [
    "df['avg_mpg'].head()"
   ]
  },
  {
   "cell_type": "code",
   "execution_count": 2464,
   "id": "c8cdec91-109a-44b6-a032-3ff712707ea8",
   "metadata": {},
   "outputs": [],
   "source": [
    "import matplotlib.pyplot as plt\n",
    "import seaborn as sns"
   ]
  },
  {
   "cell_type": "code",
   "execution_count": 2465,
   "id": "ea8ea3ea-7fa7-4694-b3c8-38fdb989c56b",
   "metadata": {},
   "outputs": [
    {
     "data": {
      "image/png": "[encoded data removed]",
      "text/plain": [
       "<Figure size 900x600 with 1 Axes>"
      ]
     },
     "metadata": {},
     "output_type": "display_data"
    }
   ],
   "source": [
    "#EDA\n",
    "plt.figure(figsize=(9, 6))\n",
    "sns.histplot(df['price'], kde=True)\n",
    "plt.title('Price Distribution')\n",
    "plt.show()"
   ]
  },
  {
   "cell_type": "code",
   "execution_count": 2466,
   "id": "110f2638-753f-4e09-94e0-34565e7924b2",
   "metadata": {},
   "outputs": [
    {
     "data": {
      "image/png": "[encoded data removed]",
      "text/plain": [
       "<Figure size 1200x200 with 2 Axes>"
      ]
     },
     "metadata": {},
     "output_type": "display_data"
    }
   ],
   "source": [
    "plt.figure(figsize=(12, 2))\n",
    "price_corr = corr_matrix['price'].sort_values(ascending=False)\n",
    "price_corr_df = pd.DataFrame(price_corr).T  #Transposing\n",
    "sns.heatmap(price_corr_df, annot=True, cmap='coolwarm', center=0)\n",
    "plt.title('Correlation with Price')\n",
    "plt.show()"
   ]
  },
  {
   "cell_type": "code",
   "execution_count": null,
   "id": "c6abe77a-3f43-47d5-a6cd-0cb29cc24426",
   "metadata": {},
   "outputs": [],
   "source": []
  },
  {
   "cell_type": "code",
   "execution_count": 2467,
   "id": "874d0ca3-3381-4b97-8e42-4cf7837b6a19",
   "metadata": {},
   "outputs": [],
   "source": [
    "# one hot encoding categorical features\n",
    "df_encoded = pd.get_dummies(df, columns=categorical_cols, drop_first=True)"
   ]
  },
  {
   "cell_type": "code",
   "execution_count": 2468,
   "id": "e180f13b-ddad-46df-9b63-0c9cd68da99e",
   "metadata": {},
   "outputs": [
    {
     "data": {
      "text/html": [
       "<div>\n",
       "<style scoped>\n",
       "    .dataframe tbody tr th:only-of-type {\n",
       "        vertical-align: middle;\n",
       "    }\n",
       "\n",
       "    .dataframe tbody tr th {\n",
       "        vertical-align: top;\n",
       "    }\n",
       "\n",
       "    .dataframe thead th {\n",
       "        text-align: right;\n",
       "    }\n",
       "</style>\n",
       "<table border=\"1\" class=\"dataframe\">\n",
       "  <thead>\n",
       "    <tr style=\"text-align: right;\">\n",
       "      <th></th>\n",
       "      <th>symboling</th>\n",
       "      <th>normalized-losses</th>\n",
       "      <th>wheel-base</th>\n",
       "      <th>length</th>\n",
       "      <th>width</th>\n",
       "      <th>height</th>\n",
       "      <th>curb-weight</th>\n",
       "      <th>engine-size</th>\n",
       "      <th>bore</th>\n",
       "      <th>stroke</th>\n",
       "      <th>...</th>\n",
       "      <th>num-of-cylinders_three</th>\n",
       "      <th>num-of-cylinders_twelve</th>\n",
       "      <th>num-of-cylinders_two</th>\n",
       "      <th>fuel-system_2bbl</th>\n",
       "      <th>fuel-system_4bbl</th>\n",
       "      <th>fuel-system_idi</th>\n",
       "      <th>fuel-system_mfi</th>\n",
       "      <th>fuel-system_mpfi</th>\n",
       "      <th>fuel-system_spdi</th>\n",
       "      <th>fuel-system_spfi</th>\n",
       "    </tr>\n",
       "  </thead>\n",
       "  <tbody>\n",
       "    <tr>\n",
       "      <th>0</th>\n",
       "      <td>3</td>\n",
       "      <td>115.0</td>\n",
       "      <td>88.6</td>\n",
       "      <td>168.8</td>\n",
       "      <td>64.1</td>\n",
       "      <td>48.8</td>\n",
       "      <td>2548</td>\n",
       "      <td>130</td>\n",
       "      <td>3.47</td>\n",
       "      <td>2.68</td>\n",
       "      <td>...</td>\n",
       "      <td>False</td>\n",
       "      <td>False</td>\n",
       "      <td>False</td>\n",
       "      <td>False</td>\n",
       "      <td>False</td>\n",
       "      <td>False</td>\n",
       "      <td>False</td>\n",
       "      <td>True</td>\n",
       "      <td>False</td>\n",
       "      <td>False</td>\n",
       "    </tr>\n",
       "    <tr>\n",
       "      <th>1</th>\n",
       "      <td>3</td>\n",
       "      <td>115.0</td>\n",
       "      <td>88.6</td>\n",
       "      <td>168.8</td>\n",
       "      <td>64.1</td>\n",
       "      <td>48.8</td>\n",
       "      <td>2548</td>\n",
       "      <td>130</td>\n",
       "      <td>3.47</td>\n",
       "      <td>2.68</td>\n",
       "      <td>...</td>\n",
       "      <td>False</td>\n",
       "      <td>False</td>\n",
       "      <td>False</td>\n",
       "      <td>False</td>\n",
       "      <td>False</td>\n",
       "      <td>False</td>\n",
       "      <td>False</td>\n",
       "      <td>True</td>\n",
       "      <td>False</td>\n",
       "      <td>False</td>\n",
       "    </tr>\n",
       "    <tr>\n",
       "      <th>2</th>\n",
       "      <td>1</td>\n",
       "      <td>115.0</td>\n",
       "      <td>94.5</td>\n",
       "      <td>171.2</td>\n",
       "      <td>65.5</td>\n",
       "      <td>52.4</td>\n",
       "      <td>2823</td>\n",
       "      <td>152</td>\n",
       "      <td>2.68</td>\n",
       "      <td>3.47</td>\n",
       "      <td>...</td>\n",
       "      <td>False</td>\n",
       "      <td>False</td>\n",
       "      <td>False</td>\n",
       "      <td>False</td>\n",
       "      <td>False</td>\n",
       "      <td>False</td>\n",
       "      <td>False</td>\n",
       "      <td>True</td>\n",
       "      <td>False</td>\n",
       "      <td>False</td>\n",
       "    </tr>\n",
       "    <tr>\n",
       "      <th>3</th>\n",
       "      <td>2</td>\n",
       "      <td>164.0</td>\n",
       "      <td>99.8</td>\n",
       "      <td>176.6</td>\n",
       "      <td>66.2</td>\n",
       "      <td>54.3</td>\n",
       "      <td>2337</td>\n",
       "      <td>109</td>\n",
       "      <td>3.19</td>\n",
       "      <td>3.40</td>\n",
       "      <td>...</td>\n",
       "      <td>False</td>\n",
       "      <td>False</td>\n",
       "      <td>False</td>\n",
       "      <td>False</td>\n",
       "      <td>False</td>\n",
       "      <td>False</td>\n",
       "      <td>False</td>\n",
       "      <td>True</td>\n",
       "      <td>False</td>\n",
       "      <td>False</td>\n",
       "    </tr>\n",
       "    <tr>\n",
       "      <th>4</th>\n",
       "      <td>2</td>\n",
       "      <td>164.0</td>\n",
       "      <td>99.4</td>\n",
       "      <td>176.6</td>\n",
       "      <td>66.4</td>\n",
       "      <td>54.3</td>\n",
       "      <td>2824</td>\n",
       "      <td>136</td>\n",
       "      <td>3.19</td>\n",
       "      <td>3.40</td>\n",
       "      <td>...</td>\n",
       "      <td>False</td>\n",
       "      <td>False</td>\n",
       "      <td>False</td>\n",
       "      <td>False</td>\n",
       "      <td>False</td>\n",
       "      <td>False</td>\n",
       "      <td>False</td>\n",
       "      <td>True</td>\n",
       "      <td>False</td>\n",
       "      <td>False</td>\n",
       "    </tr>\n",
       "  </tbody>\n",
       "</table>\n",
       "<p>5 rows × 67 columns</p>\n",
       "</div>"
      ],
      "text/plain": [
       "   symboling  normalized-losses  wheel-base  length  width  height  \\\n",
       "0          3              115.0        88.6   168.8   64.1    48.8   \n",
       "1          3              115.0        88.6   168.8   64.1    48.8   \n",
       "2          1              115.0        94.5   171.2   65.5    52.4   \n",
       "3          2              164.0        99.8   176.6   66.2    54.3   \n",
       "4          2              164.0        99.4   176.6   66.4    54.3   \n",
       "\n",
       "   curb-weight  engine-size  bore  stroke  ...  num-of-cylinders_three  \\\n",
       "0         2548          130  3.47    2.68  ...                   False   \n",
       "1         2548          130  3.47    2.68  ...                   False   \n",
       "2         2823          152  2.68    3.47  ...                   False   \n",
       "3         2337          109  3.19    3.40  ...                   False   \n",
       "4         2824          136  3.19    3.40  ...                   False   \n",
       "\n",
       "   num-of-cylinders_twelve  num-of-cylinders_two  fuel-system_2bbl  \\\n",
       "0                    False                 False             False   \n",
       "1                    False                 False             False   \n",
       "2                    False                 False             False   \n",
       "3                    False                 False             False   \n",
       "4                    False                 False             False   \n",
       "\n",
       "   fuel-system_4bbl  fuel-system_idi  fuel-system_mfi  fuel-system_mpfi  \\\n",
       "0             False            False            False              True   \n",
       "1             False            False            False              True   \n",
       "2             False            False            False              True   \n",
       "3             False            False            False              True   \n",
       "4             False            False            False              True   \n",
       "\n",
       "   fuel-system_spdi  fuel-system_spfi  \n",
       "0             False             False  \n",
       "1             False             False  \n",
       "2             False             False  \n",
       "3             False             False  \n",
       "4             False             False  \n",
       "\n",
       "[5 rows x 67 columns]"
      ]
     },
     "execution_count": 2468,
     "metadata": {},
     "output_type": "execute_result"
    }
   ],
   "source": [
    "df_encoded.head()"
   ]
  },
  {
   "cell_type": "code",
   "execution_count": null,
   "id": "a829e89e-1506-4e75-97c2-af47e115c2ff",
   "metadata": {},
   "outputs": [],
   "source": []
  },
  {
   "cell_type": "code",
   "execution_count": 2469,
   "id": "34bb54bf-77cb-4cb1-8e6b-e45a663dd02d",
   "metadata": {},
   "outputs": [],
   "source": [
    "x = df_encoded.drop('price', axis=1)"
   ]
  },
  {
   "cell_type": "code",
   "execution_count": 2470,
   "id": "56bfd665-1ecb-4218-9fd1-136769377567",
   "metadata": {},
   "outputs": [
    {
     "data": {
      "text/plain": [
       "(202, 66)"
      ]
     },
     "execution_count": 2470,
     "metadata": {},
     "output_type": "execute_result"
    }
   ],
   "source": [
    "x.shape"
   ]
  },
  {
   "cell_type": "code",
   "execution_count": 2471,
   "id": "067cc512-2526-4d13-a9e3-56278611cff9",
   "metadata": {},
   "outputs": [],
   "source": [
    "y = df_encoded['price']"
   ]
  },
  {
   "cell_type": "code",
   "execution_count": 2472,
   "id": "c71d28e9-00b5-483d-8288-c39f5f122b7a",
   "metadata": {},
   "outputs": [
    {
     "data": {
      "text/plain": [
       "0    13495\n",
       "1    16500\n",
       "2    16500\n",
       "3    13950\n",
       "4    17450\n",
       "Name: price, dtype: int64"
      ]
     },
     "execution_count": 2472,
     "metadata": {},
     "output_type": "execute_result"
    }
   ],
   "source": [
    "y.head()"
   ]
  },
  {
   "cell_type": "code",
   "execution_count": 2473,
   "id": "c07ec48e-a7aa-41c0-8d6b-369c57768d6c",
   "metadata": {},
   "outputs": [],
   "source": [
    "from sklearn.model_selection import train_test_split"
   ]
  },
  {
   "cell_type": "code",
   "execution_count": 2474,
   "id": "7e67b862-74c3-4db4-b793-285b2089445d",
   "metadata": {},
   "outputs": [],
   "source": [
    "xtrain, xtest, ytrain, ytest = train_test_split(x,y, test_size=0.3, random_state=42)"
   ]
  },
  {
   "cell_type": "code",
   "execution_count": 2475,
   "id": "2da8aab8-4b9a-433d-ad1e-b0430256755f",
   "metadata": {},
   "outputs": [],
   "source": [
    "from sklearn.linear_model import LinearRegression"
   ]
  },
  {
   "cell_type": "code",
   "execution_count": 2476,
   "id": "b59e89bf-6d68-4105-8878-d3d0ab1053ca",
   "metadata": {},
   "outputs": [],
   "source": [
    "# Model training and evaluation\n",
    "# Linear Regression\n",
    "lr = LinearRegression()\n",
    "lr.fit(xtrain,ytrain)\n",
    "y_pred_lr = lr.predict(xtest)"
   ]
  },
  {
   "cell_type": "code",
   "execution_count": 2477,
   "id": "a6c678ea-ec12-4deb-9546-c9da191cd7a7",
   "metadata": {},
   "outputs": [],
   "source": [
    "from sklearn.metrics import r2_score, mean_squared_error"
   ]
  },
  {
   "cell_type": "code",
   "execution_count": 2478,
   "id": "1a803d48-1ed2-4ff7-bf54-d205bc56878e",
   "metadata": {},
   "outputs": [
    {
     "data": {
      "text/plain": [
       "0.9268989341722157"
      ]
     },
     "execution_count": 2478,
     "metadata": {},
     "output_type": "execute_result"
    }
   ],
   "source": [
    "r2_score(ytest, y_pred_lr)"
   ]
  },
  {
   "cell_type": "code",
   "execution_count": 2479,
   "id": "d7fcdc63-64a0-43bc-a4c0-3f1f46b86cef",
   "metadata": {},
   "outputs": [
    {
     "data": {
      "text/plain": [
       "2560.6038675083278"
      ]
     },
     "execution_count": 2479,
     "metadata": {},
     "output_type": "execute_result"
    }
   ],
   "source": [
    "np.sqrt(mean_squared_error(y_test, y_pred_lr))"
   ]
  },
  {
   "cell_type": "code",
   "execution_count": 2480,
   "id": "3bfd81e6-01f6-478c-8e74-f5cd4a6ce645",
   "metadata": {},
   "outputs": [],
   "source": [
    "from sklearn.neighbors import KNeighborsRegressor"
   ]
  },
  {
   "cell_type": "code",
   "execution_count": 2481,
   "id": "7b912068-3da0-44cf-baf7-33852af27b3d",
   "metadata": {},
   "outputs": [],
   "source": [
    "# KNN Regression\n",
    "knn = KNeighborsRegressor(n_neighbors=5)\n",
    "knn.fit(xtrain, ytrain)\n",
    "y_pred_knn = knn.predict(xtest)"
   ]
  },
  {
   "cell_type": "code",
   "execution_count": 2482,
   "id": "3df3be40-6400-4c64-b643-c3d0bf3e9d45",
   "metadata": {},
   "outputs": [
    {
     "data": {
      "text/plain": [
       "0.7632838774984644"
      ]
     },
     "execution_count": 2482,
     "metadata": {},
     "output_type": "execute_result"
    }
   ],
   "source": [
    "r2_score(y_test, y_pred_knn)"
   ]
  },
  {
   "cell_type": "code",
   "execution_count": 2483,
   "id": "7e7c538f-2a86-4e7f-afd1-9342b7492852",
   "metadata": {},
   "outputs": [
    {
     "data": {
      "text/plain": [
       "4607.808925982138"
      ]
     },
     "execution_count": 2483,
     "metadata": {},
     "output_type": "execute_result"
    }
   ],
   "source": [
    "np.sqrt(mean_squared_error(y_test, y_pred_knn))"
   ]
  },
  {
   "cell_type": "code",
   "execution_count": 2484,
   "id": "d5f40d55-4165-4c7f-b518-ad756c24960e",
   "metadata": {},
   "outputs": [],
   "source": [
    "# Results\n",
    "# Linear Regression:\n",
    "# R2 Score: 0.9268989341722157\n",
    "# RMSE: 2560.6038675083278\n",
    "\n",
    "# KNN Regression:\n",
    "# R2 Score: 0.7632838774984644\n",
    "# RMSE: 4607.808925982138"
   ]
  },
  {
   "cell_type": "code",
   "execution_count": null,
   "id": "3963a395-b3fa-4aa4-a7fe-1f21a7c1bccb",
   "metadata": {},
   "outputs": [],
   "source": []
  },
  {
   "cell_type": "code",
   "execution_count": null,
   "id": "a278b15e-2b83-4652-9e5e-90a2a1a62b88",
   "metadata": {},
   "outputs": [],
   "source": []
  }
 ],
 "metadata": {
  "kernelspec": {
   "display_name": "Python 3 (ipykernel)",
   "language": "python",
   "name": "python3"
  },
  "language_info": {
   "codemirror_mode": {
    "name": "ipython",
    "version": 3
   },
   "file_extension": ".py",
   "mimetype": "text/x-python",
   "name": "python",
   "nbconvert_exporter": "python",
   "pygments_lexer": "ipython3",
   "version": "3.12.7"
  }
 },
 "nbformat": 4,
 "nbformat_minor": 5
}
