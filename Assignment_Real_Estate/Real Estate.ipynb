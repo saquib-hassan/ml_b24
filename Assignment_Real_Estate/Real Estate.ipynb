{
 "cells": [
  {
   "cell_type": "markdown",
   "id": "53bad6eb",
   "metadata": {},
   "source": [
    "# Real estate price"
   ]
  },
  {
   "cell_type": "code",
   "execution_count": 233,
   "id": "1b7eebbd",
   "metadata": {},
   "outputs": [],
   "source": [
    "import pandas as pd\n",
    "url = 'https://raw.githubusercontent.com/rashakil-ds/Public-Datasets/refs/heads/main/Real%20estate.csv'\n",
    "df = pd.read_csv(url)"
   ]
  },
  {
   "cell_type": "code",
   "execution_count": 234,
   "id": "de897489",
   "metadata": {},
   "outputs": [
    {
     "data": {
      "text/html": [
       "<div>\n",
       "<style scoped>\n",
       "    .dataframe tbody tr th:only-of-type {\n",
       "        vertical-align: middle;\n",
       "    }\n",
       "\n",
       "    .dataframe tbody tr th {\n",
       "        vertical-align: top;\n",
       "    }\n",
       "\n",
       "    .dataframe thead th {\n",
       "        text-align: right;\n",
       "    }\n",
       "</style>\n",
       "<table border=\"1\" class=\"dataframe\">\n",
       "  <thead>\n",
       "    <tr style=\"text-align: right;\">\n",
       "      <th></th>\n",
       "      <th>No</th>\n",
       "      <th>X1 transaction date</th>\n",
       "      <th>X2 house age</th>\n",
       "      <th>X3 distance to the nearest MRT station</th>\n",
       "      <th>X4 number of convenience stores</th>\n",
       "      <th>X5 latitude</th>\n",
       "      <th>X6 longitude</th>\n",
       "      <th>Y house price of unit area</th>\n",
       "    </tr>\n",
       "  </thead>\n",
       "  <tbody>\n",
       "    <tr>\n",
       "      <th>0</th>\n",
       "      <td>1</td>\n",
       "      <td>2012.917</td>\n",
       "      <td>32.0</td>\n",
       "      <td>84.87882</td>\n",
       "      <td>10</td>\n",
       "      <td>24.98298</td>\n",
       "      <td>121.54024</td>\n",
       "      <td>37.9</td>\n",
       "    </tr>\n",
       "    <tr>\n",
       "      <th>1</th>\n",
       "      <td>2</td>\n",
       "      <td>2012.917</td>\n",
       "      <td>19.5</td>\n",
       "      <td>306.59470</td>\n",
       "      <td>9</td>\n",
       "      <td>24.98034</td>\n",
       "      <td>121.53951</td>\n",
       "      <td>42.2</td>\n",
       "    </tr>\n",
       "    <tr>\n",
       "      <th>2</th>\n",
       "      <td>3</td>\n",
       "      <td>2013.583</td>\n",
       "      <td>13.3</td>\n",
       "      <td>561.98450</td>\n",
       "      <td>5</td>\n",
       "      <td>24.98746</td>\n",
       "      <td>121.54391</td>\n",
       "      <td>47.3</td>\n",
       "    </tr>\n",
       "    <tr>\n",
       "      <th>3</th>\n",
       "      <td>4</td>\n",
       "      <td>2013.500</td>\n",
       "      <td>13.3</td>\n",
       "      <td>561.98450</td>\n",
       "      <td>5</td>\n",
       "      <td>24.98746</td>\n",
       "      <td>121.54391</td>\n",
       "      <td>54.8</td>\n",
       "    </tr>\n",
       "    <tr>\n",
       "      <th>4</th>\n",
       "      <td>5</td>\n",
       "      <td>2012.833</td>\n",
       "      <td>5.0</td>\n",
       "      <td>390.56840</td>\n",
       "      <td>5</td>\n",
       "      <td>24.97937</td>\n",
       "      <td>121.54245</td>\n",
       "      <td>43.1</td>\n",
       "    </tr>\n",
       "    <tr>\n",
       "      <th>5</th>\n",
       "      <td>6</td>\n",
       "      <td>2012.667</td>\n",
       "      <td>7.1</td>\n",
       "      <td>2175.03000</td>\n",
       "      <td>3</td>\n",
       "      <td>24.96305</td>\n",
       "      <td>121.51254</td>\n",
       "      <td>32.1</td>\n",
       "    </tr>\n",
       "    <tr>\n",
       "      <th>6</th>\n",
       "      <td>7</td>\n",
       "      <td>2012.667</td>\n",
       "      <td>34.5</td>\n",
       "      <td>623.47310</td>\n",
       "      <td>7</td>\n",
       "      <td>24.97933</td>\n",
       "      <td>121.53642</td>\n",
       "      <td>40.3</td>\n",
       "    </tr>\n",
       "    <tr>\n",
       "      <th>7</th>\n",
       "      <td>8</td>\n",
       "      <td>2013.417</td>\n",
       "      <td>20.3</td>\n",
       "      <td>287.60250</td>\n",
       "      <td>6</td>\n",
       "      <td>24.98042</td>\n",
       "      <td>121.54228</td>\n",
       "      <td>46.7</td>\n",
       "    </tr>\n",
       "    <tr>\n",
       "      <th>8</th>\n",
       "      <td>9</td>\n",
       "      <td>2013.500</td>\n",
       "      <td>31.7</td>\n",
       "      <td>5512.03800</td>\n",
       "      <td>1</td>\n",
       "      <td>24.95095</td>\n",
       "      <td>121.48458</td>\n",
       "      <td>18.8</td>\n",
       "    </tr>\n",
       "    <tr>\n",
       "      <th>9</th>\n",
       "      <td>10</td>\n",
       "      <td>2013.417</td>\n",
       "      <td>17.9</td>\n",
       "      <td>1783.18000</td>\n",
       "      <td>3</td>\n",
       "      <td>24.96731</td>\n",
       "      <td>121.51486</td>\n",
       "      <td>22.1</td>\n",
       "    </tr>\n",
       "  </tbody>\n",
       "</table>\n",
       "</div>"
      ],
      "text/plain": [
       "   No  X1 transaction date  X2 house age  \\\n",
       "0   1             2012.917          32.0   \n",
       "1   2             2012.917          19.5   \n",
       "2   3             2013.583          13.3   \n",
       "3   4             2013.500          13.3   \n",
       "4   5             2012.833           5.0   \n",
       "5   6             2012.667           7.1   \n",
       "6   7             2012.667          34.5   \n",
       "7   8             2013.417          20.3   \n",
       "8   9             2013.500          31.7   \n",
       "9  10             2013.417          17.9   \n",
       "\n",
       "   X3 distance to the nearest MRT station  X4 number of convenience stores  \\\n",
       "0                                84.87882                               10   \n",
       "1                               306.59470                                9   \n",
       "2                               561.98450                                5   \n",
       "3                               561.98450                                5   \n",
       "4                               390.56840                                5   \n",
       "5                              2175.03000                                3   \n",
       "6                               623.47310                                7   \n",
       "7                               287.60250                                6   \n",
       "8                              5512.03800                                1   \n",
       "9                              1783.18000                                3   \n",
       "\n",
       "   X5 latitude  X6 longitude  Y house price of unit area  \n",
       "0     24.98298     121.54024                        37.9  \n",
       "1     24.98034     121.53951                        42.2  \n",
       "2     24.98746     121.54391                        47.3  \n",
       "3     24.98746     121.54391                        54.8  \n",
       "4     24.97937     121.54245                        43.1  \n",
       "5     24.96305     121.51254                        32.1  \n",
       "6     24.97933     121.53642                        40.3  \n",
       "7     24.98042     121.54228                        46.7  \n",
       "8     24.95095     121.48458                        18.8  \n",
       "9     24.96731     121.51486                        22.1  "
      ]
     },
     "execution_count": 234,
     "metadata": {},
     "output_type": "execute_result"
    }
   ],
   "source": [
    "df.head(10)"
   ]
  },
  {
   "cell_type": "code",
   "execution_count": 235,
   "id": "0f7dbb12",
   "metadata": {},
   "outputs": [
    {
     "data": {
      "text/html": [
       "<div>\n",
       "<style scoped>\n",
       "    .dataframe tbody tr th:only-of-type {\n",
       "        vertical-align: middle;\n",
       "    }\n",
       "\n",
       "    .dataframe tbody tr th {\n",
       "        vertical-align: top;\n",
       "    }\n",
       "\n",
       "    .dataframe thead th {\n",
       "        text-align: right;\n",
       "    }\n",
       "</style>\n",
       "<table border=\"1\" class=\"dataframe\">\n",
       "  <thead>\n",
       "    <tr style=\"text-align: right;\">\n",
       "      <th></th>\n",
       "      <th>No</th>\n",
       "      <th>X1 transaction date</th>\n",
       "      <th>X2 house age</th>\n",
       "      <th>X3 distance to the nearest MRT station</th>\n",
       "      <th>X4 number of convenience stores</th>\n",
       "      <th>X5 latitude</th>\n",
       "      <th>X6 longitude</th>\n",
       "      <th>Y house price of unit area</th>\n",
       "    </tr>\n",
       "  </thead>\n",
       "  <tbody>\n",
       "    <tr>\n",
       "      <th>count</th>\n",
       "      <td>414.000000</td>\n",
       "      <td>414.000000</td>\n",
       "      <td>414.000000</td>\n",
       "      <td>414.000000</td>\n",
       "      <td>414.000000</td>\n",
       "      <td>414.000000</td>\n",
       "      <td>414.000000</td>\n",
       "      <td>414.000000</td>\n",
       "    </tr>\n",
       "    <tr>\n",
       "      <th>mean</th>\n",
       "      <td>207.500000</td>\n",
       "      <td>2013.148971</td>\n",
       "      <td>17.712560</td>\n",
       "      <td>1083.885689</td>\n",
       "      <td>4.094203</td>\n",
       "      <td>24.969030</td>\n",
       "      <td>121.533361</td>\n",
       "      <td>37.980193</td>\n",
       "    </tr>\n",
       "    <tr>\n",
       "      <th>std</th>\n",
       "      <td>119.655756</td>\n",
       "      <td>0.281967</td>\n",
       "      <td>11.392485</td>\n",
       "      <td>1262.109595</td>\n",
       "      <td>2.945562</td>\n",
       "      <td>0.012410</td>\n",
       "      <td>0.015347</td>\n",
       "      <td>13.606488</td>\n",
       "    </tr>\n",
       "    <tr>\n",
       "      <th>min</th>\n",
       "      <td>1.000000</td>\n",
       "      <td>2012.667000</td>\n",
       "      <td>0.000000</td>\n",
       "      <td>23.382840</td>\n",
       "      <td>0.000000</td>\n",
       "      <td>24.932070</td>\n",
       "      <td>121.473530</td>\n",
       "      <td>7.600000</td>\n",
       "    </tr>\n",
       "    <tr>\n",
       "      <th>25%</th>\n",
       "      <td>104.250000</td>\n",
       "      <td>2012.917000</td>\n",
       "      <td>9.025000</td>\n",
       "      <td>289.324800</td>\n",
       "      <td>1.000000</td>\n",
       "      <td>24.963000</td>\n",
       "      <td>121.528085</td>\n",
       "      <td>27.700000</td>\n",
       "    </tr>\n",
       "    <tr>\n",
       "      <th>50%</th>\n",
       "      <td>207.500000</td>\n",
       "      <td>2013.167000</td>\n",
       "      <td>16.100000</td>\n",
       "      <td>492.231300</td>\n",
       "      <td>4.000000</td>\n",
       "      <td>24.971100</td>\n",
       "      <td>121.538630</td>\n",
       "      <td>38.450000</td>\n",
       "    </tr>\n",
       "    <tr>\n",
       "      <th>75%</th>\n",
       "      <td>310.750000</td>\n",
       "      <td>2013.417000</td>\n",
       "      <td>28.150000</td>\n",
       "      <td>1454.279000</td>\n",
       "      <td>6.000000</td>\n",
       "      <td>24.977455</td>\n",
       "      <td>121.543305</td>\n",
       "      <td>46.600000</td>\n",
       "    </tr>\n",
       "    <tr>\n",
       "      <th>max</th>\n",
       "      <td>414.000000</td>\n",
       "      <td>2013.583000</td>\n",
       "      <td>43.800000</td>\n",
       "      <td>6488.021000</td>\n",
       "      <td>10.000000</td>\n",
       "      <td>25.014590</td>\n",
       "      <td>121.566270</td>\n",
       "      <td>117.500000</td>\n",
       "    </tr>\n",
       "  </tbody>\n",
       "</table>\n",
       "</div>"
      ],
      "text/plain": [
       "               No  X1 transaction date  X2 house age  \\\n",
       "count  414.000000           414.000000    414.000000   \n",
       "mean   207.500000          2013.148971     17.712560   \n",
       "std    119.655756             0.281967     11.392485   \n",
       "min      1.000000          2012.667000      0.000000   \n",
       "25%    104.250000          2012.917000      9.025000   \n",
       "50%    207.500000          2013.167000     16.100000   \n",
       "75%    310.750000          2013.417000     28.150000   \n",
       "max    414.000000          2013.583000     43.800000   \n",
       "\n",
       "       X3 distance to the nearest MRT station  \\\n",
       "count                              414.000000   \n",
       "mean                              1083.885689   \n",
       "std                               1262.109595   \n",
       "min                                 23.382840   \n",
       "25%                                289.324800   \n",
       "50%                                492.231300   \n",
       "75%                               1454.279000   \n",
       "max                               6488.021000   \n",
       "\n",
       "       X4 number of convenience stores  X5 latitude  X6 longitude  \\\n",
       "count                       414.000000   414.000000    414.000000   \n",
       "mean                          4.094203    24.969030    121.533361   \n",
       "std                           2.945562     0.012410      0.015347   \n",
       "min                           0.000000    24.932070    121.473530   \n",
       "25%                           1.000000    24.963000    121.528085   \n",
       "50%                           4.000000    24.971100    121.538630   \n",
       "75%                           6.000000    24.977455    121.543305   \n",
       "max                          10.000000    25.014590    121.566270   \n",
       "\n",
       "       Y house price of unit area  \n",
       "count                  414.000000  \n",
       "mean                    37.980193  \n",
       "std                     13.606488  \n",
       "min                      7.600000  \n",
       "25%                     27.700000  \n",
       "50%                     38.450000  \n",
       "75%                     46.600000  \n",
       "max                    117.500000  "
      ]
     },
     "execution_count": 235,
     "metadata": {},
     "output_type": "execute_result"
    }
   ],
   "source": [
    "df.describe()"
   ]
  },
  {
   "cell_type": "code",
   "execution_count": 236,
   "id": "c5579dde",
   "metadata": {},
   "outputs": [
    {
     "data": {
      "text/html": [
       "<div>\n",
       "<style scoped>\n",
       "    .dataframe tbody tr th:only-of-type {\n",
       "        vertical-align: middle;\n",
       "    }\n",
       "\n",
       "    .dataframe tbody tr th {\n",
       "        vertical-align: top;\n",
       "    }\n",
       "\n",
       "    .dataframe thead th {\n",
       "        text-align: right;\n",
       "    }\n",
       "</style>\n",
       "<table border=\"1\" class=\"dataframe\">\n",
       "  <thead>\n",
       "    <tr style=\"text-align: right;\">\n",
       "      <th></th>\n",
       "      <th>X1 transaction date</th>\n",
       "      <th>X2 house age</th>\n",
       "      <th>X3 distance to the nearest MRT station</th>\n",
       "      <th>X4 number of convenience stores</th>\n",
       "      <th>Y house price of unit area</th>\n",
       "    </tr>\n",
       "  </thead>\n",
       "  <tbody>\n",
       "    <tr>\n",
       "      <th>0</th>\n",
       "      <td>2012.917</td>\n",
       "      <td>32.0</td>\n",
       "      <td>84.87882</td>\n",
       "      <td>10</td>\n",
       "      <td>37.9</td>\n",
       "    </tr>\n",
       "    <tr>\n",
       "      <th>1</th>\n",
       "      <td>2012.917</td>\n",
       "      <td>19.5</td>\n",
       "      <td>306.59470</td>\n",
       "      <td>9</td>\n",
       "      <td>42.2</td>\n",
       "    </tr>\n",
       "    <tr>\n",
       "      <th>2</th>\n",
       "      <td>2013.583</td>\n",
       "      <td>13.3</td>\n",
       "      <td>561.98450</td>\n",
       "      <td>5</td>\n",
       "      <td>47.3</td>\n",
       "    </tr>\n",
       "    <tr>\n",
       "      <th>3</th>\n",
       "      <td>2013.500</td>\n",
       "      <td>13.3</td>\n",
       "      <td>561.98450</td>\n",
       "      <td>5</td>\n",
       "      <td>54.8</td>\n",
       "    </tr>\n",
       "    <tr>\n",
       "      <th>4</th>\n",
       "      <td>2012.833</td>\n",
       "      <td>5.0</td>\n",
       "      <td>390.56840</td>\n",
       "      <td>5</td>\n",
       "      <td>43.1</td>\n",
       "    </tr>\n",
       "  </tbody>\n",
       "</table>\n",
       "</div>"
      ],
      "text/plain": [
       "   X1 transaction date  X2 house age  X3 distance to the nearest MRT station  \\\n",
       "0             2012.917          32.0                                84.87882   \n",
       "1             2012.917          19.5                               306.59470   \n",
       "2             2013.583          13.3                               561.98450   \n",
       "3             2013.500          13.3                               561.98450   \n",
       "4             2012.833           5.0                               390.56840   \n",
       "\n",
       "   X4 number of convenience stores  Y house price of unit area  \n",
       "0                               10                        37.9  \n",
       "1                                9                        42.2  \n",
       "2                                5                        47.3  \n",
       "3                                5                        54.8  \n",
       "4                                5                        43.1  "
      ]
     },
     "execution_count": 236,
     "metadata": {},
     "output_type": "execute_result"
    }
   ],
   "source": [
    "df = df.drop(['No','X5 latitude','X6 longitude'], axis=1)\n",
    "df.head()"
   ]
  },
  {
   "cell_type": "code",
   "execution_count": 237,
   "id": "5398961e",
   "metadata": {},
   "outputs": [
    {
     "data": {
      "text/html": [
       "<div>\n",
       "<style scoped>\n",
       "    .dataframe tbody tr th:only-of-type {\n",
       "        vertical-align: middle;\n",
       "    }\n",
       "\n",
       "    .dataframe tbody tr th {\n",
       "        vertical-align: top;\n",
       "    }\n",
       "\n",
       "    .dataframe thead th {\n",
       "        text-align: right;\n",
       "    }\n",
       "</style>\n",
       "<table border=\"1\" class=\"dataframe\">\n",
       "  <thead>\n",
       "    <tr style=\"text-align: right;\">\n",
       "      <th></th>\n",
       "      <th>X1 transaction date</th>\n",
       "      <th>X2 house age</th>\n",
       "      <th>X3 distance to the nearest MRT station</th>\n",
       "      <th>X4 number of convenience stores</th>\n",
       "      <th>Y house price of unit area</th>\n",
       "    </tr>\n",
       "  </thead>\n",
       "  <tbody>\n",
       "    <tr>\n",
       "      <th>0</th>\n",
       "      <td>2012</td>\n",
       "      <td>32.0</td>\n",
       "      <td>84.87882</td>\n",
       "      <td>10</td>\n",
       "      <td>37.9</td>\n",
       "    </tr>\n",
       "    <tr>\n",
       "      <th>1</th>\n",
       "      <td>2012</td>\n",
       "      <td>19.5</td>\n",
       "      <td>306.59470</td>\n",
       "      <td>9</td>\n",
       "      <td>42.2</td>\n",
       "    </tr>\n",
       "    <tr>\n",
       "      <th>2</th>\n",
       "      <td>2013</td>\n",
       "      <td>13.3</td>\n",
       "      <td>561.98450</td>\n",
       "      <td>5</td>\n",
       "      <td>47.3</td>\n",
       "    </tr>\n",
       "    <tr>\n",
       "      <th>3</th>\n",
       "      <td>2013</td>\n",
       "      <td>13.3</td>\n",
       "      <td>561.98450</td>\n",
       "      <td>5</td>\n",
       "      <td>54.8</td>\n",
       "    </tr>\n",
       "    <tr>\n",
       "      <th>4</th>\n",
       "      <td>2012</td>\n",
       "      <td>5.0</td>\n",
       "      <td>390.56840</td>\n",
       "      <td>5</td>\n",
       "      <td>43.1</td>\n",
       "    </tr>\n",
       "  </tbody>\n",
       "</table>\n",
       "</div>"
      ],
      "text/plain": [
       "  X1 transaction date  X2 house age  X3 distance to the nearest MRT station  \\\n",
       "0                2012          32.0                                84.87882   \n",
       "1                2012          19.5                               306.59470   \n",
       "2                2013          13.3                               561.98450   \n",
       "3                2013          13.3                               561.98450   \n",
       "4                2012           5.0                               390.56840   \n",
       "\n",
       "   X4 number of convenience stores  Y house price of unit area  \n",
       "0                               10                        37.9  \n",
       "1                                9                        42.2  \n",
       "2                                5                        47.3  \n",
       "3                                5                        54.8  \n",
       "4                                5                        43.1  "
      ]
     },
     "execution_count": 237,
     "metadata": {},
     "output_type": "execute_result"
    }
   ],
   "source": [
    "df['X1 transaction date'] = df['X1 transaction date'].astype(str).str.extract(r'^(\\d{4})')[0]\n",
    "df.head()"
   ]
  },
  {
   "cell_type": "code",
   "execution_count": 238,
   "id": "0a22657e",
   "metadata": {},
   "outputs": [
    {
     "name": "stdout",
     "output_type": "stream",
     "text": [
      "<class 'pandas.core.frame.DataFrame'>\n",
      "RangeIndex: 414 entries, 0 to 413\n",
      "Data columns (total 5 columns):\n",
      " #   Column                                  Non-Null Count  Dtype  \n",
      "---  ------                                  --------------  -----  \n",
      " 0   X1 transaction date                     414 non-null    object \n",
      " 1   X2 house age                            414 non-null    float64\n",
      " 2   X3 distance to the nearest MRT station  414 non-null    float64\n",
      " 3   X4 number of convenience stores         414 non-null    int64  \n",
      " 4   Y house price of unit area              414 non-null    float64\n",
      "dtypes: float64(3), int64(1), object(1)\n",
      "memory usage: 16.3+ KB\n"
     ]
    }
   ],
   "source": [
    "df.info()"
   ]
  },
  {
   "cell_type": "code",
   "execution_count": 239,
   "id": "e24d3676",
   "metadata": {},
   "outputs": [
    {
     "data": {
      "text/html": [
       "<div>\n",
       "<style scoped>\n",
       "    .dataframe tbody tr th:only-of-type {\n",
       "        vertical-align: middle;\n",
       "    }\n",
       "\n",
       "    .dataframe tbody tr th {\n",
       "        vertical-align: top;\n",
       "    }\n",
       "\n",
       "    .dataframe thead th {\n",
       "        text-align: right;\n",
       "    }\n",
       "</style>\n",
       "<table border=\"1\" class=\"dataframe\">\n",
       "  <thead>\n",
       "    <tr style=\"text-align: right;\">\n",
       "      <th></th>\n",
       "      <th>X1 transaction date</th>\n",
       "      <th>X2 house age</th>\n",
       "      <th>X3 distance to the nearest MRT station</th>\n",
       "      <th>X4 number of convenience stores</th>\n",
       "      <th>Y house price of unit area</th>\n",
       "    </tr>\n",
       "  </thead>\n",
       "  <tbody>\n",
       "    <tr>\n",
       "      <th>0</th>\n",
       "      <td>2012</td>\n",
       "      <td>32.0</td>\n",
       "      <td>84.87882</td>\n",
       "      <td>10</td>\n",
       "      <td>37.9</td>\n",
       "    </tr>\n",
       "    <tr>\n",
       "      <th>1</th>\n",
       "      <td>2012</td>\n",
       "      <td>19.5</td>\n",
       "      <td>306.59470</td>\n",
       "      <td>9</td>\n",
       "      <td>42.2</td>\n",
       "    </tr>\n",
       "    <tr>\n",
       "      <th>2</th>\n",
       "      <td>2013</td>\n",
       "      <td>13.3</td>\n",
       "      <td>561.98450</td>\n",
       "      <td>5</td>\n",
       "      <td>47.3</td>\n",
       "    </tr>\n",
       "    <tr>\n",
       "      <th>3</th>\n",
       "      <td>2013</td>\n",
       "      <td>13.3</td>\n",
       "      <td>561.98450</td>\n",
       "      <td>5</td>\n",
       "      <td>54.8</td>\n",
       "    </tr>\n",
       "    <tr>\n",
       "      <th>4</th>\n",
       "      <td>2012</td>\n",
       "      <td>5.0</td>\n",
       "      <td>390.56840</td>\n",
       "      <td>5</td>\n",
       "      <td>43.1</td>\n",
       "    </tr>\n",
       "  </tbody>\n",
       "</table>\n",
       "</div>"
      ],
      "text/plain": [
       "   X1 transaction date  X2 house age  X3 distance to the nearest MRT station  \\\n",
       "0                 2012          32.0                                84.87882   \n",
       "1                 2012          19.5                               306.59470   \n",
       "2                 2013          13.3                               561.98450   \n",
       "3                 2013          13.3                               561.98450   \n",
       "4                 2012           5.0                               390.56840   \n",
       "\n",
       "   X4 number of convenience stores  Y house price of unit area  \n",
       "0                               10                        37.9  \n",
       "1                                9                        42.2  \n",
       "2                                5                        47.3  \n",
       "3                                5                        54.8  \n",
       "4                                5                        43.1  "
      ]
     },
     "execution_count": 239,
     "metadata": {},
     "output_type": "execute_result"
    }
   ],
   "source": [
    "df['X1 transaction date'] = df['X1 transaction date'].astype(int)\n",
    "df.head()"
   ]
  },
  {
   "cell_type": "code",
   "execution_count": 240,
   "id": "746775e1",
   "metadata": {},
   "outputs": [
    {
     "name": "stdout",
     "output_type": "stream",
     "text": [
      "<class 'pandas.core.frame.DataFrame'>\n",
      "RangeIndex: 414 entries, 0 to 413\n",
      "Data columns (total 5 columns):\n",
      " #   Column                                  Non-Null Count  Dtype  \n",
      "---  ------                                  --------------  -----  \n",
      " 0   X1 transaction date                     414 non-null    int64  \n",
      " 1   X2 house age                            414 non-null    float64\n",
      " 2   X3 distance to the nearest MRT station  414 non-null    float64\n",
      " 3   X4 number of convenience stores         414 non-null    int64  \n",
      " 4   Y house price of unit area              414 non-null    float64\n",
      "dtypes: float64(3), int64(2)\n",
      "memory usage: 16.3 KB\n"
     ]
    }
   ],
   "source": [
    "df.info()"
   ]
  },
  {
   "cell_type": "markdown",
   "id": "1df3b9ac",
   "metadata": {},
   "source": [
    "### Dataset Explanation\n",
    "\n",
    "1. **X1 transaction date** (`int32`):  \n",
    "   - Represents the year of the transaction, indicating when the real estate sale occurred.  \n",
    "   - Example: 2012 or 2013.\n",
    "\n",
    "2. **X2 house age** (`float64`):  \n",
    "   - The age of the house in years at the time of the transaction.  \n",
    "   - Example: 32.0 means the house is 32 years old.\n",
    "\n",
    "3. **X3 distance to the nearest MRT station** (`float64`):  \n",
    "   - The distance from the house to the nearest MRT station, measured in meters.  \n",
    "   - Example: 84.87882 meters.\n",
    "\n",
    "4. **X4 number of convenience stores** (`int64`):  \n",
    "   - The number of convenience stores within a certain vicinity of the house.  \n",
    "   - Example: 10 means there are 10 convenience stores nearby.\n",
    "\n",
    "5. **Y house price of unit area** (`float64`):  \n",
    "   - The price per unit area (e.g., per square meter) of the house during the transaction.  \n",
    "   - Example: 37.9 means 37.9 currency units per square meter.\n"
   ]
  },
  {
   "cell_type": "markdown",
   "id": "2ed21eed",
   "metadata": {},
   "source": [
    "# Continue...."
   ]
  },
  {
   "cell_type": "markdown",
   "id": "ad403978",
   "metadata": {},
   "source": [
    "### Steps for Regression Analysis\n",
    "\n",
    "#### **1. Split the Dataset**\n",
    "- Split the data into **training (70%)** and **testing (30%)** subsets.\n",
    "- Use the `train_test_split` function to ensure randomness in the split.\n",
    "- Define:\n",
    "  - **Features (X)**: `X1 transaction date`, `X2 house age`, `X3 distance to the nearest MRT station`, `X4 number of convenience stores`.\n",
    "  - **Target (Y)**: `Y house price of unit area`."
   ]
  },
  {
   "cell_type": "code",
   "execution_count": 241,
   "id": "03aa857f",
   "metadata": {},
   "outputs": [],
   "source": [
    "from sklearn.model_selection import train_test_split"
   ]
  },
  {
   "cell_type": "code",
   "execution_count": 242,
   "id": "eebb7b14",
   "metadata": {},
   "outputs": [],
   "source": [
    "x =df.drop('Y house price of unit area',axis=1)\n",
    "y =df['Y house price of unit area']\n",
    "x_train, x_test, y_train, y_test = train_test_split(x, y, train_size=0.7, random_state=42)"
   ]
  },
  {
   "cell_type": "markdown",
   "id": "58c5f44c",
   "metadata": {},
   "source": [
    "#### **2. Check Correlation**\n",
    "- Compute the correlation matrix to understand the relationships between features and the target variable.\n",
    "- Visualize the correlation matrix using a **heatmap**:\n",
    "  - Strong correlations between features and the target suggest potential predictors.\n",
    "  - Identify multicollinearity (strong correlations between features), which might affect regression models."
   ]
  },
  {
   "cell_type": "code",
   "execution_count": 243,
   "id": "9ab7bbc9",
   "metadata": {},
   "outputs": [],
   "source": [
    "import numpy as np\n",
    "import matplotlib.pyplot as plt\n",
    "import seaborn as sns # numpy is necessary for seaborn"
   ]
  },
  {
   "cell_type": "code",
   "execution_count": 244,
   "id": "0d7be9cb",
   "metadata": {},
   "outputs": [
    {
     "data": {
      "text/html": [
       "<div>\n",
       "<style scoped>\n",
       "    .dataframe tbody tr th:only-of-type {\n",
       "        vertical-align: middle;\n",
       "    }\n",
       "\n",
       "    .dataframe tbody tr th {\n",
       "        vertical-align: top;\n",
       "    }\n",
       "\n",
       "    .dataframe thead th {\n",
       "        text-align: right;\n",
       "    }\n",
       "</style>\n",
       "<table border=\"1\" class=\"dataframe\">\n",
       "  <thead>\n",
       "    <tr style=\"text-align: right;\">\n",
       "      <th></th>\n",
       "      <th>X1 transaction date</th>\n",
       "      <th>X2 house age</th>\n",
       "      <th>X3 distance to the nearest MRT station</th>\n",
       "      <th>X4 number of convenience stores</th>\n",
       "      <th>Y house price of unit area</th>\n",
       "    </tr>\n",
       "  </thead>\n",
       "  <tbody>\n",
       "    <tr>\n",
       "      <th>X1 transaction date</th>\n",
       "      <td>1.000000</td>\n",
       "      <td>0.049171</td>\n",
       "      <td>0.016519</td>\n",
       "      <td>-0.005586</td>\n",
       "      <td>0.081545</td>\n",
       "    </tr>\n",
       "    <tr>\n",
       "      <th>X2 house age</th>\n",
       "      <td>0.049171</td>\n",
       "      <td>1.000000</td>\n",
       "      <td>0.025622</td>\n",
       "      <td>0.049593</td>\n",
       "      <td>-0.210567</td>\n",
       "    </tr>\n",
       "    <tr>\n",
       "      <th>X3 distance to the nearest MRT station</th>\n",
       "      <td>0.016519</td>\n",
       "      <td>0.025622</td>\n",
       "      <td>1.000000</td>\n",
       "      <td>-0.602519</td>\n",
       "      <td>-0.673613</td>\n",
       "    </tr>\n",
       "    <tr>\n",
       "      <th>X4 number of convenience stores</th>\n",
       "      <td>-0.005586</td>\n",
       "      <td>0.049593</td>\n",
       "      <td>-0.602519</td>\n",
       "      <td>1.000000</td>\n",
       "      <td>0.571005</td>\n",
       "    </tr>\n",
       "    <tr>\n",
       "      <th>Y house price of unit area</th>\n",
       "      <td>0.081545</td>\n",
       "      <td>-0.210567</td>\n",
       "      <td>-0.673613</td>\n",
       "      <td>0.571005</td>\n",
       "      <td>1.000000</td>\n",
       "    </tr>\n",
       "  </tbody>\n",
       "</table>\n",
       "</div>"
      ],
      "text/plain": [
       "                                        X1 transaction date  X2 house age  \\\n",
       "X1 transaction date                                1.000000      0.049171   \n",
       "X2 house age                                       0.049171      1.000000   \n",
       "X3 distance to the nearest MRT station             0.016519      0.025622   \n",
       "X4 number of convenience stores                   -0.005586      0.049593   \n",
       "Y house price of unit area                         0.081545     -0.210567   \n",
       "\n",
       "                                        X3 distance to the nearest MRT station  \\\n",
       "X1 transaction date                                                   0.016519   \n",
       "X2 house age                                                          0.025622   \n",
       "X3 distance to the nearest MRT station                                1.000000   \n",
       "X4 number of convenience stores                                      -0.602519   \n",
       "Y house price of unit area                                           -0.673613   \n",
       "\n",
       "                                        X4 number of convenience stores  \\\n",
       "X1 transaction date                                           -0.005586   \n",
       "X2 house age                                                   0.049593   \n",
       "X3 distance to the nearest MRT station                        -0.602519   \n",
       "X4 number of convenience stores                                1.000000   \n",
       "Y house price of unit area                                     0.571005   \n",
       "\n",
       "                                        Y house price of unit area  \n",
       "X1 transaction date                                       0.081545  \n",
       "X2 house age                                             -0.210567  \n",
       "X3 distance to the nearest MRT station                   -0.673613  \n",
       "X4 number of convenience stores                           0.571005  \n",
       "Y house price of unit area                                1.000000  "
      ]
     },
     "execution_count": 244,
     "metadata": {},
     "output_type": "execute_result"
    }
   ],
   "source": [
    "df.corr()"
   ]
  },
  {
   "cell_type": "code",
   "execution_count": null,
   "id": "a52f825f",
   "metadata": {},
   "outputs": [],
   "source": []
  },
  {
   "cell_type": "code",
   "execution_count": 245,
   "id": "f1423aa0",
   "metadata": {},
   "outputs": [
    {
     "data": {
      "image/png": "[encoded data removed]",
      "text/plain": [
       "<Figure size 900x800 with 2 Axes>"
      ]
     },
     "metadata": {},
     "output_type": "display_data"
    }
   ],
   "source": [
    "plt.figure(figsize=(9,8))\n",
    "sns.heatmap(corr_matrix, annot=True, cmap='coolwarm')\n",
    "plt.title('Correlation matrix heatmap')\n",
    "# plt.legend()\n",
    "plt.show()"
   ]
  },
  {
   "cell_type": "markdown",
   "id": "21a84b6d",
   "metadata": {},
   "source": [
    "#### **3. Apply Regression Models**\n",
    "\n",
    "**a. Linear Regression**\n",
    "1. Train a **Linear Regression** model using the training data.\n",
    "2. Predict the target values using the testing data."
   ]
  },
  {
   "cell_type": "code",
   "execution_count": 246,
   "id": "afe34009",
   "metadata": {},
   "outputs": [],
   "source": [
    "from sklearn.linear_model import LinearRegression\n",
    "from sklearn.metrics import mean_squared_error\n",
    "from sklearn.metrics import r2_score"
   ]
  },
  {
   "cell_type": "code",
   "execution_count": 247,
   "id": "b0287a23",
   "metadata": {},
   "outputs": [],
   "source": [
    "# linear rression\n",
    "lr =LinearRegression()\n",
    "lr.fit(x_train,y_train)\n",
    "y_pred_lr =lr.predict(x_test)\n"
   ]
  },
  {
   "cell_type": "code",
   "execution_count": 248,
   "id": "db7de2d3",
   "metadata": {},
   "outputs": [
    {
     "data": {
      "text/plain": [
       "array([50.23523426, 44.48165868, 43.68731994, 38.52990187, 28.06963547,\n",
       "       44.18373583, 42.2032285 , 44.91755857, 27.33957806, 53.3448726 ,\n",
       "       33.02762525, 34.83239213, 32.0867224 , 27.30618315, 35.55765433,\n",
       "       33.47635948, 44.22565683, 48.95311223, 29.58867794, 47.19022269,\n",
       "        2.29590098, 33.63432744, 46.863739  , 46.62694542, 14.57308255,\n",
       "       38.43294928, 14.63015948, 40.90321701, 37.06889899, 37.1801725 ,\n",
       "       12.67233677, 37.85916557, 38.99069315, 33.12722789, 45.92686262,\n",
       "       32.4396913 , 50.72357303, 17.95503561, 47.13069619, 42.9146363 ,\n",
       "       34.95012279, 41.07233916, 45.95537087, 35.87113902, 41.74407099,\n",
       "       46.19716193, 44.6903678 , 23.27144477, 49.57988717, 45.73251284,\n",
       "       50.23523426, 47.27332709, 41.20238525, 44.24629128, 38.09816276,\n",
       "       17.93177799, 39.00352778, 32.33920527, 27.99986259, 44.91755857,\n",
       "       33.84061611, 31.36197378, 17.93177799, 10.04909066,  4.92314459,\n",
       "       33.65758506, 31.41622159, 47.74621035, 31.73414862, 34.82828039,\n",
       "       48.93022209, 35.96669517, 48.9298546 , 47.83230068, 37.13520542,\n",
       "       36.35733239, 36.87595842, 42.70739881, 38.87651459, 27.64306138,\n",
       "       40.72781301, 42.27300137, 32.16046557, 42.33490432, 34.78614709,\n",
       "       31.1728013 , 42.87107141, 44.98389099, 33.85070593, 44.19042629,\n",
       "       20.43685389, 41.37154806, 36.94564553, 44.06869337, 48.1270734 ,\n",
       "       41.35365274, 33.14120591, 45.64582983, 31.30154596, 45.44565559,\n",
       "       31.20924113, 34.96184915, 45.93335917, 33.88985197, 51.57441179,\n",
       "       50.79334591, 32.93897009, 25.75159987, 41.41806331, 36.82944317,\n",
       "       35.87593722, 38.52990187, 45.69096515, 46.12936892, 21.5605149 ,\n",
       "       40.12725786, 44.91755857, 43.40981779, 33.00583499, 34.75850751,\n",
       "       44.11933932, 19.01112638, 49.93565092, 50.25849188, 39.27500541])"
      ]
     },
     "execution_count": 248,
     "metadata": {},
     "output_type": "execute_result"
    }
   ],
   "source": [
    "y_pred_lr"
   ]
  },
  {
   "cell_type": "code",
   "execution_count": 249,
   "id": "fceb20ce",
   "metadata": {},
   "outputs": [
    {
     "name": "stdout",
     "output_type": "stream",
     "text": [
      "MSE= 72.85\n",
      "R_2= 0.56\n"
     ]
    }
   ],
   "source": [
    "# Evaluate\n",
    "mse_lr =mean_squared_error(y_test,y_pred_lr)\n",
    "r2_lr =r2_score(y_test,y_pred_lr)\n",
    "print(f\"MSE= {mse_lr:.2f}\")\n",
    "print(f\"R_2= {r2_lr:.2f}\")"
   ]
  },
  {
   "cell_type": "markdown",
   "id": "6cd817ff",
   "metadata": {},
   "source": [
    "**b. Polynomial Regression**\n",
    "1. Use `PolynomialFeatures` to generate polynomial terms for the features (e.g., degree = 2 or 3).\n",
    "2. Train a **Linear Regression** model on the transformed polynomial features.\n",
    "3. Predict the target values using the transformed testing data."
   ]
  },
  {
   "cell_type": "code",
   "execution_count": 250,
   "id": "43012de1",
   "metadata": {},
   "outputs": [],
   "source": [
    "from sklearn.preprocessing import PolynomialFeatures"
   ]
  },
  {
   "cell_type": "code",
   "execution_count": 251,
   "id": "027c6da3",
   "metadata": {},
   "outputs": [],
   "source": [
    "# polynomial Features\n",
    "poly = PolynomialFeatures(degree=2)\n",
    "x_train_poly =poly.fit_transform(x_train)\n",
    "x_test_poly =poly.transform(x_test)"
   ]
  },
  {
   "cell_type": "code",
   "execution_count": 252,
   "id": "39a34cb0",
   "metadata": {},
   "outputs": [
    {
     "data": {
      "text/plain": [
       "array([[1.00000000e+00, 2.01300000e+03, 1.10000000e+00, ...,\n",
       "        3.74749586e+04, 1.16150700e+03, 3.60000000e+01],\n",
       "       [1.00000000e+00, 2.01300000e+03, 1.32000000e+01, ...,\n",
       "        2.42291653e+05, 2.46115650e+03, 2.50000000e+01],\n",
       "       [1.00000000e+00, 2.01300000e+03, 0.00000000e+00, ...,\n",
       "        7.50838914e+04, 2.74014400e+02, 1.00000000e+00],\n",
       "       ...,\n",
       "       [1.00000000e+00, 2.01300000e+03, 0.00000000e+00, ...,\n",
       "        8.58477108e+04, 1.75798680e+03, 3.60000000e+01],\n",
       "       [1.00000000e+00, 2.01300000e+03, 1.00000000e+00, ...,\n",
       "        3.74749586e+04, 1.16150700e+03, 3.60000000e+01],\n",
       "       [1.00000000e+00, 2.01300000e+03, 1.30000000e+01, ...,\n",
       "        5.62605605e+05, 1.50014080e+03, 4.00000000e+00]], shape=(125, 15))"
      ]
     },
     "execution_count": 252,
     "metadata": {},
     "output_type": "execute_result"
    }
   ],
   "source": [
    "x_test_poly"
   ]
  },
  {
   "cell_type": "code",
   "execution_count": null,
   "id": "9d9238cf",
   "metadata": {},
   "outputs": [],
   "source": []
  },
  {
   "cell_type": "code",
   "execution_count": 253,
   "id": "9126fb4b",
   "metadata": {},
   "outputs": [],
   "source": [
    "# polynomial Regression\n",
    "pr = LinearRegression()\n",
    "pr.fit(x_train_poly, y_train)\n",
    "y_pred_pr = pr.predict(x_test_poly)"
   ]
  },
  {
   "cell_type": "code",
   "execution_count": 254,
   "id": "a2f35dd6",
   "metadata": {},
   "outputs": [
    {
     "data": {
      "text/plain": [
       "(125,)"
      ]
     },
     "execution_count": 254,
     "metadata": {},
     "output_type": "execute_result"
    }
   ],
   "source": [
    "y_pred_pr.shape"
   ]
  },
  {
   "cell_type": "code",
   "execution_count": 255,
   "id": "d1301f46",
   "metadata": {},
   "outputs": [
    {
     "data": {
      "text/plain": [
       "array([55.84851031, 43.0507112 , 52.31957289, 39.96548846, 20.29589715,\n",
       "       43.58911679, 41.21623826, 44.61251359, 25.29317938, 54.81038977,\n",
       "       27.66425994, 29.46695364, 29.51191348, 25.19250744, 37.94411353,\n",
       "       28.27971084, 44.61468668, 54.21252518, 20.00766517, 44.87201614,\n",
       "       24.04914142, 26.73355298, 48.99094419, 45.89641209, 17.30533988,\n",
       "       39.77814942, 16.73274691, 49.24260913, 41.67450436, 43.22185227,\n",
       "       18.96297444, 34.39563307, 38.2069013 , 29.59654352, 44.71075267,\n",
       "       35.99656329, 52.87785852, 18.9022292 , 44.1332404 , 48.82056277,\n",
       "       37.25296103, 39.21620861, 46.10876238, 33.42441454, 39.95772319,\n",
       "       46.01650266, 40.37391544, 20.59308153, 56.40637868, 46.21220079,\n",
       "       55.84851031, 50.26589584, 41.13023821, 42.71872151, 38.52963772,\n",
       "       18.88192371, 41.01149957, 29.28537229, 20.24548224, 44.61251359,\n",
       "       27.14667527, 28.43625819, 18.88192371, 16.92889986, 19.7154057 ,\n",
       "       26.75535457, 27.82450587, 42.86899847, 32.95996412, 32.3114712 ,\n",
       "       49.24777851, 38.0123731 , 54.12903521, 51.37317655, 41.6709274 ,\n",
       "       35.43096316, 37.03076326, 41.99282807, 34.03802352, 25.9185281 ,\n",
       "       37.28929281, 41.35042852, 29.44354711, 52.11052634, 25.92806195,\n",
       "       25.42941762, 43.87922744, 44.07790068, 28.86779181, 42.64037963,\n",
       "       19.41409228, 40.09053018, 32.0003925 , 42.06383387, 44.96687573,\n",
       "       45.02107526, 27.97393294, 44.94948246, 23.42910896, 48.62520433,\n",
       "       23.02748484, 34.5159484 , 44.32231193, 32.07845072, 56.22310651,\n",
       "       53.09545505, 30.70788304, 17.54321067, 40.09241652, 36.92748853,\n",
       "       36.37918793, 39.96548846, 45.80476415, 46.96461088, 20.49518854,\n",
       "       49.15240285, 44.61251359, 43.26954967, 31.03928351, 32.17009242,\n",
       "       42.8820116 , 18.88415368, 55.20642954, 55.93367068, 38.2219423 ])"
      ]
     },
     "execution_count": 255,
     "metadata": {},
     "output_type": "execute_result"
    }
   ],
   "source": [
    "y_pred_pr"
   ]
  },
  {
   "cell_type": "markdown",
   "id": "5a5872ba",
   "metadata": {},
   "source": [
    "#### **4. Evaluate Model Performance**\n",
    "- Evaluate both Linear and Polynomial Regression models using:\n",
    "  1. **Mean Squared Error (MSE)**:\n",
    "     - Measures the average squared difference between predicted and actual values.\n",
    "     - Lower MSE indicates better performance.\n",
    "  2. **R-squared (R²)**:\n",
    "     - Measures how well the model explains the variability of the target variable.\n",
    "     - Higher R² indicates better performance.\n",
    "- Compare the results to determine which model performs better."
   ]
  },
  {
   "cell_type": "code",
   "execution_count": 256,
   "id": "c98fa41d",
   "metadata": {},
   "outputs": [
    {
     "name": "stdout",
     "output_type": "stream",
     "text": [
      "MSE =58.79\n",
      "R_2 =0.65\n"
     ]
    }
   ],
   "source": [
    "# Evaluate\n",
    "mse_pr = mean_squared_error(y_test, y_pred_pr)\n",
    "r2_pr = r2_score(y_test, y_pred_pr)\n",
    "print(f\"MSE ={mse_pr:.2f}\")\n",
    "print(f\"R_2 ={r2_pr:.2f}\")"
   ]
  },
  {
   "cell_type": "code",
   "execution_count": 259,
   "id": "81ad84fc",
   "metadata": {},
   "outputs": [],
   "source": [
    "# if I use degree 3 \n",
    "# MSE =63.61\n",
    "# R_2 =0.62"
   ]
  },
  {
   "cell_type": "markdown",
   "id": "2b873b1d",
   "metadata": {},
   "source": [
    "#### **5. Visualize Results**\n",
    "- Plot **actual vs. predicted values** for both Linear and Polynomial Regression.\n",
    "- For Polynomial Regression, visualize the curve fitting to see how well it models the data."
   ]
  },
  {
   "cell_type": "code",
   "execution_count": 257,
   "id": "1fbb77c4",
   "metadata": {},
   "outputs": [
    {
     "data": {
      "image/png": "[encoded data removed]",
      "text/plain": [
       "<Figure size 1000x600 with 1 Axes>"
      ]
     },
     "metadata": {},
     "output_type": "display_data"
    },
    {
     "data": {
      "image/png": "[encoded data removed]",
      "text/plain": [
       "<Figure size 1000x600 with 1 Axes>"
      ]
     },
     "metadata": {},
     "output_type": "display_data"
    }
   ],
   "source": [
    "# linear plot\n",
    "plt.figure(figsize=(10,6))\n",
    "plt.scatter(y_test, y_pred_lr, alpha=0.5)\n",
    "plt.plot([y.min(), y.max()], [y.min(), y.max()], 'k--', lw=2)\n",
    "plt.xlabel('Actual Price')\n",
    "plt.ylabel('Predicted Price (linear)')\n",
    "plt.title('Linear Regression: Actual vs Predicted')\n",
    "plt.show()\n",
    "\n",
    "# polynomial plot\n",
    "plt.figure(figsize=(10,6))\n",
    "plt.scatter(y_test, y_pred_pr, alpha=0.5)\n",
    "plt.plot([y.min(), y.max()], [y.min(), y.max()], 'k--', lw=2)\n",
    "plt.xlabel('Actual Price')\n",
    "plt.ylabel('Predicted Price (polynomial)')\n",
    "plt.title('Polynomial Regression: Actual vs Predicted')\n",
    "plt.show()"
   ]
  },
  {
   "cell_type": "code",
   "execution_count": null,
   "id": "cd851905",
   "metadata": {},
   "outputs": [],
   "source": []
  }
 ],
 "metadata": {
  "kernelspec": {
   "display_name": "Python 3",
   "language": "python",
   "name": "python3"
  },
  "language_info": {
   "codemirror_mode": {
    "name": "ipython",
    "version": 3
   },
   "file_extension": ".py",
   "mimetype": "text/x-python",
   "name": "python",
   "nbconvert_exporter": "python",
   "pygments_lexer": "ipython3",
   "version": "3.13.3"
  }
 },
 "nbformat": 4,
 "nbformat_minor": 5
}
